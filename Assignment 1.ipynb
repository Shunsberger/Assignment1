{
 "cells": [
  {
   "cell_type": "markdown",
   "metadata": {},
   "source": [
    "# Program 1\n",
    "## Create a program that prompts for your name and prints a greeting using your name."
   ]
  },
  {
   "cell_type": "code",
   "execution_count": 13,
   "metadata": {
    "collapsed": false
   },
   "outputs": [
    {
     "name": "stdout",
     "output_type": "stream",
     "text": [
      "What is your name? Shane\n",
      "Hello Shane nice to meet you!\n"
     ]
    }
   ],
   "source": [
    "name = input(\"What is your name? \") # Prompts user to input a name assigned to the variable \"name\"\n",
    "greeting = \"Hello \" + str(name) + \" nice to meet you!\" # Creates greeting, which concatenates name into the given greeting\n",
    "print(greeting) # Prints out the greeting"
   ]
  },
  {
   "cell_type": "markdown",
   "metadata": {},
   "source": [
    "# Program 2\n",
    "## Create a program that prompts for an input string and displays output that shows the input string and the number of characters the string contains."
   ]
  },
  {
   "cell_type": "code",
   "execution_count": 22,
   "metadata": {
    "collapsed": false
   },
   "outputs": [
    {
     "name": "stdout",
     "output_type": "stream",
     "text": [
      "What is the input string? This is a good string\n",
      "This is a good string has 21 characters\n"
     ]
    }
   ],
   "source": [
    "input_string = input(\"What is the input string? \") # Prompts user to enter a string assigned to the variable \"input_string\"\n",
    "count_string = len(input_string) # Creates a new variable \"count_string\" which uses length function (len) to count length of input_string\n",
    "print(input_string, \"has\", count_string, \"characters\") # Prints out the original word and the length of the word"
   ]
  },
  {
   "cell_type": "markdown",
   "metadata": {},
   "source": [
    "# Program 3\n",
    "## Create a simple mad-lib program that prompts for a noun, a verb, an adverb, and an adjective and injects those into a story that you create."
   ]
  },
  {
   "cell_type": "code",
   "execution_count": 29,
   "metadata": {
    "collapsed": false
   },
   "outputs": [
    {
     "name": "stdout",
     "output_type": "stream",
     "text": [
      "Enter a noun: dog\n",
      "Enter a verb: walk\n",
      "Enter an adjective: yellow\n",
      "Enter an adverb: slowly\n",
      "I like to walk slowly with my yellow dog\n"
     ]
    }
   ],
   "source": [
    "noun = input(\"Enter a noun: \") # Prompts user to input a noun\n",
    "verb = input(\"Enter a verb: \") # Prompts user to input a verb\n",
    "adjective = input(\"Enter an adjective: \") # Prompts user to input an adjective\n",
    "adverb = input(\"Enter an adverb: \") # Prompts user to input an adverb\n",
    "print(\"I like to\", verb,adverb, \"with my\", adjective, noun) # Places input words into the madlib and prints"
   ]
  },
  {
   "cell_type": "markdown",
   "metadata": {},
   "source": [
    "# Program 4\n",
    "## Write a program that prompts for two numbers. Print the sum, difference, product, and quotient of those numbers."
   ]
  },
  {
   "cell_type": "code",
   "execution_count": 1,
   "metadata": {
    "collapsed": false
   },
   "outputs": [
    {
     "name": "stdout",
     "output_type": "stream",
     "text": [
      "What is the first number? 89\n",
      "What is the second number? 21\n",
      " 89 + 21 = 110 \n",
      " 89 - 21 = 68 \n",
      " 89 * 21 = 1869 \n",
      " 89 / 21 = 4.238095238095238\n"
     ]
    }
   ],
   "source": [
    "num1 = int(input(\"What is the first number? \")) # Prompts user for a number and converts entered string to integer as num1\n",
    "num2 = int(input(\"What is the second number? \")) # Prompts user for another number and converts entered string to integer as num2\n",
    "add = num1 + num2 # Creates expression add, which adds num1 and num2\n",
    "subtract = num1 - num2 # Creates expression subtract, which subtracts num2 from num1\n",
    "multiply = num1 * num2 # Creates expression multiply, which multiplies num1 and num2 \n",
    "divide = num1 / num2 # Creates expression divide, which divides num1 by num2\n",
    "print(\"\", num1, \"+\", num2, \"=\", add , \"\\n\", # Prints out num1 and num2 with each expression, includes proper signs\n",
    "    num1, \"-\", num2, \"=\", subtract , \"\\n\", #\\n is a line break, puts each expression on a seperate line\n",
    "    num1, \"*\", num2, \"=\", multiply, \"\\n\", # \"\" in first line of print statement aligns first statement with other three\n",
    "    num1, \"/\", num2, \"=\", divide)"
   ]
  },
  {
   "cell_type": "markdown",
   "metadata": {
    "collapsed": true
   },
   "source": [
    "# Program 5\n",
    "## Create a program that determines how many years you have left until retirement and the year you can retire. "
   ]
  },
  {
   "cell_type": "code",
   "execution_count": 5,
   "metadata": {
    "collapsed": false
   },
   "outputs": [
    {
     "name": "stdout",
     "output_type": "stream",
     "text": [
      "What is your current age? 26\n",
      "At what age would you like to retire? 65\n",
      "You have 39 years until you can retire\n",
      "It's 2017, so you can retire in 2056\n"
     ]
    }
   ],
   "source": [
    "import datetime # Imports datetime which allows us to call now\n",
    "now = datetime.datetime.now() # Now will pull aspects of the current time\n",
    "\n",
    "age = int(input(\"What is your current age? \")) # Prompts user to enter age stores in variable age\n",
    "retire = int(input(\"At what age would you like to retire? \")) # Prompts user to enter age when they want to retire, stored as variable retire\n",
    "retire_age = retire - age # Calculates difference between current age and retirement age\n",
    "year = now.year # Calls current year to be used in print statement\n",
    "retire_year = year + retire_age # Adds retire_age to current year to find out year in which person will retire\n",
    "print(\"You have {} years until you can retire\".format(retire_age)) # Print years until retirement\n",
    "print(\"It's {}, so you can retire in {}\".format(year, retire_year)) # Prints current year and year of retirement"
   ]
  },
  {
   "cell_type": "markdown",
   "metadata": {},
   "source": [
    "# Program 6\n",
    "## Create a program that calculates the area of a room. Prompt the user for the length and width of the room in feet. Then display the area in both square feet and square meters."
   ]
  },
  {
   "cell_type": "code",
   "execution_count": 11,
   "metadata": {
    "collapsed": false
   },
   "outputs": [
    {
     "name": "stdout",
     "output_type": "stream",
     "text": [
      "What is the length of the room in feet? 20\n",
      "What is the width of the room in feet? 15\n",
      "You entered dimensions of 20 feet by 15 feet \n",
      " The area is \n",
      " 300 square feet \n",
      " 27.871 square meters\n"
     ]
    }
   ],
   "source": [
    "length = int(input(\"What is the length of the room in feet? \")) # Prompts user to input length of room, stored as length\n",
    "width = int(input(\"What is the width of the room in feet? \")) # Prompts user to input width of room, stored as width\n",
    "\n",
    "conversion = .09290304 # Creates constant that holds conversion factor\n",
    "area_feet = length * width # Calculates area by multiplying length times width\n",
    "area_meters = area_feet * conversion\n",
    "\n",
    "print (\"You entered dimensions of {} feet by {} feet \\n The area is \\n {} square feet \\n {:6.3f} square meters\".format(length, width, area_feet, area_meters))\n",
    "# Prints output with \\n acting as line break to seperate the lines, square meters is formatted to have three decimal places"
   ]
  },
  {
   "cell_type": "markdown",
   "metadata": {},
   "source": [
    "# Program 7\n",
    "## Write a program to evenly divide pizzas. Prompt for the number of people, the number of pizzas, and the number of slices per pizza. Ensure that the number of pieces comes out even. Display the number of pieces of pizza each person should get. If there are leftovers, show the number of leftover pieces."
   ]
  },
  {
   "cell_type": "code",
   "execution_count": 12,
   "metadata": {
    "collapsed": false
   },
   "outputs": [
    {
     "name": "stdout",
     "output_type": "stream",
     "text": [
      "How many people? 10\n",
      "How many pizzas do you have? 2\n",
      "How many slices per pizza? 3\n",
      " 10 people with 2 pizzas \n",
      " Each person gets 0 slices of pizza. \n",
      " There are 6 leftover pieces\n"
     ]
    }
   ],
   "source": [
    "people = int(input(\"How many people? \")) # Prompts user to input number of people, stored as people\n",
    "pizza = int(input(\"How many pizzas do you have? \")) # Prompts user to input number of pizzas, stored as pizza\n",
    "slice = int(input(\"How many slices per pizza? \")) # Prompts user to input number of slices per pizza, stored as slice\n",
    "\n",
    "slices = pizza * slice # Calculates total number of slices\n",
    "serve = slices / people # Calculates how many slices each person will get\n",
    "leftover = slices % people # Calculates the number of leftover slices\n",
    "\n",
    "print(\"{} people with {} pizzas \\n Each person gets {} slices of pizza. \\n There are {} leftover pieces\".format(people, pizza, int(serve), leftover))\n",
    "# Prints output, serve is output as an int "
   ]
  },
  {
   "cell_type": "markdown",
   "metadata": {},
   "source": [
    "# Program 8\n",
    "## Calculate gallons of paint needed to paint the ceiling of a room. Prompt for the length and width, and assume one gallon covers 350 square feet. Display the number of gallons needed to paint the ceiling as a whole number."
   ]
  },
  {
   "cell_type": "code",
   "execution_count": 22,
   "metadata": {
    "collapsed": false
   },
   "outputs": [
    {
     "name": "stdout",
     "output_type": "stream",
     "text": [
      " Enter the length of the room: 90\n",
      " Enter the width of the room: 4\n",
      "You will need 2 gallons of paint to cover 360 square feet\n"
     ]
    }
   ],
   "source": [
    "cover = 350 # Cover is constant to hold coverage of one gallon\n",
    "length = int(input(\" Enter the length of the room: \")) # Prompts user to find length of room to find area, stored as length\n",
    "width = int(input(\" Enter the width of the room: \")) # Prompts user to find width of room to find area, stored as width\n",
    "\n",
    "area = length * width # Calculates area of the room \n",
    "total = int(area/cover) # Calculates how many gallons of paint are needed, stored as an int\n",
    "left = area%cover # Calculates any remainder from total \n",
    "\n",
    "if left > 0: # If statement to add 1 gallon to total if there is any remainder, ensures there is enough paint to cover everything\n",
    "    print(\"You will need {} gallons of paint to cover {} square feet\".format(total + 1,area))\n",
    "else:    \n",
    "    print(\"You will need {} gallons of paint to cover {} square feet\".format(total,area))"
   ]
  },
  {
   "cell_type": "markdown",
   "metadata": {
    "collapsed": true
   },
   "source": [
    "# Program 9\n",
    "## Create a simple self-checkout system. Prompt for the prices and quantities of three items. Calculate the subtotal of the items. Then calculate the tax using a tax rate of 5.5%. Print out the line items with the quantity and total, and then print out the subtotal, tax amount, and total."
   ]
  },
  {
   "cell_type": "code",
   "execution_count": 3,
   "metadata": {
    "collapsed": false
   },
   "outputs": [
    {
     "name": "stdout",
     "output_type": "stream",
     "text": [
      "Enter the price of item 1: 19.99\n",
      "Enter the quantity of item 1: 1\n",
      "Enter the price of item 2: 9.99\n",
      "Enter the quantity of item 2: 2\n",
      "Enter the price of item 3: 2.50\n",
      "Enter the quantity of item 3: 3\n",
      "Subtotal: $47.47\n",
      "Tax: $2.61\n",
      "Total: $50.08\n"
     ]
    }
   ],
   "source": [
    "tax_rate = .055 # Stores the tax rate as a constant\n",
    "p1 = float(input(\"Enter the price of item 1: \")) # Prompts user to input price of unit one, stored as float p1\n",
    "q1 = int(input(\"Enter the quantity of item 1: \")) # Prompts user to input quantity of unit one, stored as int q1\n",
    "p2 = float(input(\"Enter the price of item 2: \")) # Prompts user to input price of unit two, stored as float p2\n",
    "q2 = int(input(\"Enter the quantity of item 2: \")) # Prompts user to input quantity of unit two, stored as int q2\n",
    "p3 = float(input(\"Enter the price of item 3: \")) # Prompts user to input price of unit three, stored as float p3\n",
    "q3 = int(input(\"Enter the quantity of item 3: \")) # Prompts user to input quantity of unit three, stored as int q3\n",
    "\n",
    "sub = (p1 * q1 + p2 * q2 + p3 * q3) # Calculates subtotal by multiplying corresponding item price and quantity\n",
    "tax = sub * tax_rate # Calculates tax by multiplying subtotal and tax rate\n",
    "total = sub + tax # Calculates total by adding subtotal and tax\n",
    "\n",
    "# Prints outputs, formatted to two decimal places\n",
    "print(\"Subtotal: ${:.2f}\".format(sub)) \n",
    "print(\"Tax: ${:.2f}\".format(tax))\n",
    "print(\"Total: ${:.2f}\".format(total))\n"
   ]
  },
  {
   "cell_type": "markdown",
   "metadata": {},
   "source": [
    "# Program 10\n",
    "## Create a program that computes simple interest. Prompt for the principal amount, the rate as a percentage, and the time, and display the amount accrued (principal + interest)."
   ]
  },
  {
   "cell_type": "code",
   "execution_count": 6,
   "metadata": {
    "collapsed": false
   },
   "outputs": [
    {
     "name": "stdout",
     "output_type": "stream",
     "text": [
      " Enter the principal: 1500\n",
      "Enter the rate of interest (as %): 4.3\n",
      "Enter the number of years: 4\n",
      "After 4 years at 4.3%, the investment will be worth $1,758.00.\n"
     ]
    }
   ],
   "source": [
    "principal = int(input(\" Enter the principal: \")) # Prompts user to input principal, stored as int principal\n",
    "rate = float(input(\"Enter the rate of interest (as %): \")) # Prompts user to enter rate of interest by constraint propmts as percentage, stored as int rate\n",
    "years = int(input(\"Enter the number of years: \")) # Prompts user to enter number of years, saved as int years\n",
    "\n",
    "rate_of_interest = rate / 100 # Takes user input and divides by 100 to give rate of interest used in formula\n",
    "interest = principal * (1 + rate_of_interest * years) # Calculates interest with given formula\n",
    "\n",
    "print(\"After {} years at {:.1f}%, the investment will be worth ${:,.2f}.\".format(years, rate, interest))\n",
    "# Prints output with rate of interest and interest formatted properly "
   ]
  }
 ],
 "metadata": {
  "anaconda-cloud": {},
  "kernelspec": {
   "display_name": "Python [conda root]",
   "language": "python",
   "name": "conda-root-py"
  },
  "language_info": {
   "codemirror_mode": {
    "name": "ipython",
    "version": 3
   },
   "file_extension": ".py",
   "mimetype": "text/x-python",
   "name": "python",
   "nbconvert_exporter": "python",
   "pygments_lexer": "ipython3",
   "version": "3.5.2"
  }
 },
 "nbformat": 4,
 "nbformat_minor": 1
}
